{
 "cells": [
  {
   "cell_type": "markdown",
   "id": "6d8f02cf",
   "metadata": {},
   "source": [
    "# Langchain 1.0\n",
    "\n",
    "- langchain 1.0 실습 가이드입니다.\n",
    "- 0버전과 문법 및 객체 구조가 매우 다르므로 GPT를 통한 코드 작성이 매우 어렵습니다. 반드시 작동이 확인된 예시 코드와 공식 문서를 기반으로 개발하시기 바랍니다.\n",
    "- 코드 흐름을 따라가면서 이해되지 않는 개념이 있으면 함께 드린 마크다운 파일을 다시 읽어보세요!"
   ]
  },
  {
   "cell_type": "markdown",
   "id": "52178c77",
   "metadata": {},
   "source": [
    "## 1. 환경 설정\n",
    "\n",
    "- Python 3.11.14 기반의 conda 가상 환경에서 테스트되었습니다.\n",
    "- environment.yml 또는 requirements.txt 파일을 통해 환경을 재현하실 수 있습니다.\n",
    "- 환경 변수만 잘 등록해준다면 venv, colab 등 다른 실행 환경에서도 작동할 것으로 예상되나 버전 정보를 잘 확인해주세요.\n",
    "- langchain, langchain-core등 핵심 라이브러리는 꼭 1.0.x 버전을 사용해주세요.\n"
   ]
  },
  {
   "cell_type": "code",
   "execution_count": null,
   "id": "0a3602f4",
   "metadata": {},
   "outputs": [],
   "source": [
    "# 공통 라이브러리 import\n",
    "import os\n",
    "\n",
    "# 환경 변수 로드\n",
    "from dotenv import load_dotenv\n",
    "load_dotenv()\n",
    "\n",
    "# 예쁜 출력\n",
    "from pprint import pprint"
   ]
  },
  {
   "cell_type": "markdown",
   "id": "f608ee30",
   "metadata": {},
   "source": [
    "## 2. 단일 Model 호출\n",
    "\n",
    "- Agent 없이 단일 Model을 호출하는 방법을 알아봅니다.\n",
    "- invoke()는 모델 또는 체인을 한 번 실행하여 모델의 응답을 반환받는 메서드입니다.\n",
    "- Agent와 체인을 만들기 전에, 단일 Model을 호출해봅시다."
   ]
  },
  {
   "cell_type": "code",
   "execution_count": null,
   "id": "e800101e",
   "metadata": {},
   "outputs": [],
   "source": [
    "# OpenAI 채팅 모델 초기화의 가장 기본적인 형태\n",
    "from langchain.chat_models import init_chat_model\n",
    "model = init_chat_model(\"openai:gpt-5-nano\") # api key는 환경 변수에서 자동으로 로드됩니다. api_key 매개변수로 직접 전달할 수도 있습니다."
   ]
  },
  {
   "cell_type": "code",
   "execution_count": 4,
   "id": "e5f2abfa",
   "metadata": {},
   "outputs": [
    {
     "name": "stdout",
     "output_type": "stream",
     "text": [
      "AIMessage(content='안녕하세요! 반가워요. 무엇을 도와드릴까요?\\n\\n원하실 때 골라서 시작해도 좋고, 그냥 대화로 시작해도 좋아요.\\n- 간단한 정보 검색/설명\\n- 글 작성, 번역, 첨삭\\n- 아이디어 브레인스토밍\\n- 코딩이나 수학 문제 풀이\\n- 일상 대화 연습\\n- 일정 계획이나 공부 계획 세우기\\n\\n다음 중에 원하시는 게 있나요? 아니면 다른 주제로 이야기해 봐도 좋습니다.', additional_kwargs={'refusal': None}, response_metadata={'token_usage': {'completion_tokens': 578, 'prompt_tokens': 8, 'total_tokens': 586, 'completion_tokens_details': {'accepted_prediction_tokens': 0, 'audio_tokens': 0, 'reasoning_tokens': 448, 'rejected_prediction_tokens': 0}, 'prompt_tokens_details': {'audio_tokens': 0, 'cached_tokens': 0}}, 'model_provider': 'openai', 'model_name': 'gpt-5-nano-2025-08-07', 'system_fingerprint': None, 'id': 'chatcmpl-CWBVDftGflUJC0accVzMn4SQdw92L', 'service_tier': 'default', 'finish_reason': 'stop', 'logprobs': None}, id='lc_run--bc3b0eae-c85d-46c3-b75b-30a0bb6b5f16-0', usage_metadata={'input_tokens': 8, 'output_tokens': 578, 'total_tokens': 586, 'input_token_details': {'audio': 0, 'cache_read': 0}, 'output_token_details': {'audio': 0, 'reasoning': 448}})\n"
     ]
    }
   ],
   "source": [
    "# invoke 메서드로 독립적인 LLM API를 호출합니다.\n",
    "response = model.invoke('안녕')\n",
    "\n",
    "# 모델이 보내준 응답 전체를 출력하면, 토큰 사용량 등 메타 데이터가 함께 출력됩니다.\n",
    "pprint(response)"
   ]
  },
  {
   "cell_type": "code",
   "execution_count": 5,
   "id": "e1a7b709",
   "metadata": {},
   "outputs": [
    {
     "name": "stdout",
     "output_type": "stream",
     "text": [
      "('안녕하세요! 반가워요. 무엇을 도와드릴까요?\\n'\n",
      " '\\n'\n",
      " '원하실 때 골라서 시작해도 좋고, 그냥 대화로 시작해도 좋아요.\\n'\n",
      " '- 간단한 정보 검색/설명\\n'\n",
      " '- 글 작성, 번역, 첨삭\\n'\n",
      " '- 아이디어 브레인스토밍\\n'\n",
      " '- 코딩이나 수학 문제 풀이\\n'\n",
      " '- 일상 대화 연습\\n'\n",
      " '- 일정 계획이나 공부 계획 세우기\\n'\n",
      " '\\n'\n",
      " '다음 중에 원하시는 게 있나요? 아니면 다른 주제로 이야기해 봐도 좋습니다.')\n"
     ]
    }
   ],
   "source": [
    "# 모델이 보내준 실제 답변 내용만 출력하려면 응답의 content 속성을 참조합니다.\n",
    "pprint(response.content)"
   ]
  },
  {
   "cell_type": "code",
   "execution_count": 16,
   "id": "a5f80f43",
   "metadata": {},
   "outputs": [],
   "source": [
    "# 모델 초기화 시 다양한 파라미터를 지정할 수 있습니다.\n",
    "# OpenAI 모델 외 다양한 모델에 대해서도 동일한 파라미터로 요청을 보낼 수 있습니다.\n",
    "model = init_chat_model(\n",
    "    model = \"openai:gpt-5-nano\",\n",
    "    temperature=0.8, # 응답의 창의성. GPT-5 계열 모델들은 temperature 파라미터를 지원하지 않지만, Langchain에서는 일관된 인터페이스를 제공하기 때문에 오류가 발생하지 않습니다.\n",
    "    max_tokens=2000, # 최대 토큰 수\n",
    "    timeout=20, # 요청 제한 시간(초)\n",
    "    max_retries=2, # 요청 실패 시 재시도 횟수\n",
    "    )"
   ]
  },
  {
   "cell_type": "code",
   "execution_count": null,
   "id": "e47bc9c1",
   "metadata": {},
   "outputs": [
    {
     "name": "stdout",
     "output_type": "stream",
     "text": [
      "('기본적으로는 실시간 웹 검색을 자동으로 수행하지는 않아요. 다만 사용하는 인터페이스에 따라 웹 브라우징 기능이 활성화되어 있으면 최신 '\n",
      " '정보를 찾아 출처와 함께 제공할 수 있습니다.\\n'\n",
      " '\\n'\n",
      " '웹 검색을 원하시면 \"웹 검색 기능으로 찾아줘\"라고 요청해 주세요. 가능 여부를 확인한 뒤 최신 정보를 찾아 드리겠습니다.  \\n'\n",
      " '그렇지 않으면 제 지식 범위(2024년 6월까지) 안에서 최대한 정확하게 답변해 드릴게요.\\n'\n",
      " '\\n'\n",
      " '참고로 검색이 가능하더라도 정보의 정확성을 항상 확인하는 것이 좋으니, 필요하신 경우 검색 쿼리도 함께 도와드립니다. 원하시는 주제나 '\n",
      " '키워드를 알려주실래요?')\n"
     ]
    }
   ],
   "source": [
    "# 파라미터가 적용된 모델로도 다시 호출해봅시다.\n",
    "response = model.invoke('너 웹 서치 기능도 가지고 있니?') # 기본 모델은 웹 서치 기능을 가지고 있지 않습니다.\n",
    "pprint(response.content)"
   ]
  },
  {
   "cell_type": "markdown",
   "id": "d394ccfe",
   "metadata": {},
   "source": [
    "## 3. Agent 생성\n",
    "\n",
    "- 아무 추가 기능 없는 단일 모델 호출하려고 Langchain을 쓰는 건 아니죠.\n",
    "- Langchain의 핵심 기능인 Agent를 만들어보겠습니다."
   ]
  },
  {
   "cell_type": "code",
   "execution_count": null,
   "id": "c49c5483",
   "metadata": {},
   "outputs": [],
   "source": [
    "# Agent 생성에 필요한 모듈입니다.\n",
    "from langchain.agents import create_agent\n",
    "\n",
    "# 앞서 초기화한 Model을 사용하여 Agent를 생성합니다.\n",
    "agent = create_agent(\n",
    "    model=model, # 사용할 LLM 모델을 미리 초기화(init)한 후 인자로 전달하세요.\n",
    "    tools=[] # tool은 필수 인자지만, 빈 리스트를 전달하면 아무 tool도 없는 Agent를 생성할 수 있습니다.\n",
    "    )"
   ]
  },
  {
   "cell_type": "code",
   "execution_count": 120,
   "id": "45bc6985",
   "metadata": {},
   "outputs": [
    {
     "name": "stdout",
     "output_type": "stream",
     "text": [
      "{'messages': [HumanMessage(content='오늘 서울 날씨는 어때?', additional_kwargs={}, response_metadata={}, id='196d18d9-3f6d-4dbe-ad77-2ad43369a957'),\n",
      "              AIMessage(content='', additional_kwargs={'refusal': None}, response_metadata={'token_usage': {'completion_tokens': 157, 'prompt_tokens': 197, 'total_tokens': 354, 'completion_tokens_details': {'accepted_prediction_tokens': 0, 'audio_tokens': 0, 'reasoning_tokens': 128, 'rejected_prediction_tokens': 0}, 'prompt_tokens_details': {'audio_tokens': 0, 'cached_tokens': 0}}, 'model_provider': 'openai', 'model_name': 'gpt-5-mini-2025-08-07', 'system_fingerprint': None, 'id': 'chatcmpl-CWFOMxSJFXiWJ5clZv5fdk0ipet39', 'service_tier': 'default', 'finish_reason': 'tool_calls', 'logprobs': None}, id='lc_run--f2377e44-bf7b-40ce-82e3-4f4d304624ac-0', tool_calls=[{'name': 'duckduckgo_search', 'args': {'query': '서울 날씨 오늘'}, 'id': 'call_Vtdc6iFsn6bEOqx3zE09dLL7', 'type': 'tool_call'}], usage_metadata={'input_tokens': 197, 'output_tokens': 157, 'total_tokens': 354, 'input_token_details': {'audio': 0, 'cache_read': 0}, 'output_token_details': {'audio': 0, 'reasoning': 128}}),\n",
      "              ToolMessage(content='날씨 아이콘 저작물은 \"공공누리\" 출처표시-상업적이용금지-변경금지 조건에 따라 이용 할 수 있습니다. 날씨 서울 , 오늘 , 시간별. 서울 , 시간별 오늘 기상 예보. 악천후 알림. freemeteo.kr. 서울 14일간의 날씨 예보 - 대한민국 전국 날씨 정보. 서울의 상세한 14일간의 날씨 예보를 확인해보세요. 오늘 서울 날씨 . 금요일, 10 10월 2025. 오늘 서울 날씨 시간별. 00:00. +18°C. 오늘 , 내일, 이번 주 서울 날씨 알아보기.서울관광재단 Visit Seoul에서 확인하는 실시간 날씨 정보.', name='duckduckgo_search', id='aa3efbe5-e76b-464c-b205-ff4cfd7124e9', tool_call_id='call_Vtdc6iFsn6bEOqx3zE09dLL7'),\n",
      "              AIMessage(content='', additional_kwargs={'refusal': None}, response_metadata={'token_usage': {'completion_tokens': 107, 'prompt_tokens': 401, 'total_tokens': 508, 'completion_tokens_details': {'accepted_prediction_tokens': 0, 'audio_tokens': 0, 'reasoning_tokens': 64, 'rejected_prediction_tokens': 0}, 'prompt_tokens_details': {'audio_tokens': 0, 'cached_tokens': 0}}, 'model_provider': 'openai', 'model_name': 'gpt-5-mini-2025-08-07', 'system_fingerprint': None, 'id': 'chatcmpl-CWFOWb4xpowaym8w0nwnuI9NiTcfg', 'service_tier': 'default', 'finish_reason': 'tool_calls', 'logprobs': None}, id='lc_run--65376c4e-c180-4ddf-b71d-88d76543c886-0', tool_calls=[{'name': 'duckduckgo_search', 'args': {'query': '서울 현재 기온 지금 기상 서울 현재 날씨 2025-10-30'}, 'id': 'call_2h3YxRmfPrruNqq61eSV15qx', 'type': 'tool_call'}], usage_metadata={'input_tokens': 401, 'output_tokens': 107, 'total_tokens': 508, 'input_token_details': {'audio': 0, 'cache_read': 0}, 'output_token_details': {'audio': 0, 'reasoning': 64}}),\n",
      "              ToolMessage(content='저희의 2025 년 10 월 서울특별시 , 서울특별시 일일 기상 예보는 전문적인 동적 장기 모델에서 개발되었으며, 정확한 일일 기온 및 강수량 예측을 제공합니다. 본문으로 바로가기. 2025 .08.18(Mon). 현재 서울 등 수도권과 충청에 호우 예비특보가 내려진 가운데, 앞으로 시간당 최대 70㎜의 강한 비가 집중되겠습니다. ADVERTISEMENT. 현재 기온 . 12℃.개최 중인 특집, 캠페인 Recommend. Events. JOZANKEI NATURE LUMINARIE 2025 10 th. - 실황표로 정리되어 있는 기상청 각 지상관측 지점의 시간별 관측 실황자료를 조회하실 수 있습니다. - 해당 자료는 실시간 관측된 자료이며, 현지 사정에 의해 잘못된 값이 표출 될 수 있으므로, 증명자료로 사용 될 수 없습니다. 2 days ago · 의 현재 일 기 예보는 Partly Cloudy, 실시간 온도 (9°C), 습도 66%, 풍속 4km/h, 기압 (), UV 지수 (0), 가시성 (10km), Seoul 에 위치', name='duckduckgo_search', id='8551f7ec-51ef-462a-8848-65ad2ceb0d7d', tool_call_id='call_2h3YxRmfPrruNqq61eSV15qx'),\n",
      "              AIMessage(content='', additional_kwargs={'refusal': None}, response_metadata={'token_usage': {'completion_tokens': 230, 'prompt_tokens': 731, 'total_tokens': 961, 'completion_tokens_details': {'accepted_prediction_tokens': 0, 'audio_tokens': 0, 'reasoning_tokens': 192, 'rejected_prediction_tokens': 0}, 'prompt_tokens_details': {'audio_tokens': 0, 'cached_tokens': 0}}, 'model_provider': 'openai', 'model_name': 'gpt-5-mini-2025-08-07', 'system_fingerprint': None, 'id': 'chatcmpl-CWFObxZLcOKOKvymAuGlLHisBABZK', 'service_tier': 'default', 'finish_reason': 'tool_calls', 'logprobs': None}, id='lc_run--409dca82-75aa-4494-b36f-9ba8f46d7cbf-0', tool_calls=[{'name': 'duckduckgo_search', 'args': {'query': '서울 현재 날씨 기온 기상청 현재 기온 서울'}, 'id': 'call_emTymLKNC7TssUoLMkGBwVMV', 'type': 'tool_call'}], usage_metadata={'input_tokens': 731, 'output_tokens': 230, 'total_tokens': 961, 'input_token_details': {'audio': 0, 'cache_read': 0}, 'output_token_details': {'audio': 0, 'reasoning': 192}}),\n",
      "              ToolMessage(content='서울 (07062) 서울특별시 동작구 여의대방로16길 61. 기상청 업무에 관한 문의는 국민신문고를 이용해주시기 바랍니다. 현재 날씨 조회시, 참고사항 안내. - 실황표로 정리되어 있는 기상청 각 지상관측 지점의 시간별 관측 실황자료를 조회하실 수 있습니다. 김지은 기상캐스터 여름 날씨 예보 폭염과 소나기 서울 대구 광주 기온 변화 기상청 정보.[ 날씨 ] 양윤진 기상캐스터 #양윤진 #기상캐스터 # 날씨 #연합뉴스 현재 날씨 및 눈 예보 - 양윤진 기상캐스터. 중국 북동지방의 상층저기압이 장기간 머물면서 주기적으로 찬 공기를 남하시킴에 따라 오는 12일까지 곳곳에서 비가 내리고 기온이 낮아져 추운 날씨가 이어지겠다. 전국 오늘 현재 날씨 / 기상청 . 현재 기준의 날씨입니다. 충청남도 지역 기온 5 도 약한비계속입니다. 5.', name='duckduckgo_search', id='af067f3b-eb3f-4a86-b548-71aa1a9ea5de', tool_call_id='call_emTymLKNC7TssUoLMkGBwVMV'),\n",
      "              AIMessage(content='지금 바로 실시간으로 조회해서 알려드릴까요?  \\n원하시면 제공할 정보 선택해 주세요:\\n- 현재 기온·체감온도·강수(비/눈) 여부\\n- 오늘 시간대별 예보(오전/오후/밤)\\n- 강수 확률·강수량\\n- 풍속·습도\\n- 미세먼지·초미세먼지 등 대기질\\n원하시는 항목 말해주시면 바로 확인해서 알려드릴게요.', additional_kwargs={'refusal': None}, response_metadata={'token_usage': {'completion_tokens': 439, 'prompt_tokens': 1026, 'total_tokens': 1465, 'completion_tokens_details': {'accepted_prediction_tokens': 0, 'audio_tokens': 0, 'reasoning_tokens': 320, 'rejected_prediction_tokens': 0}, 'prompt_tokens_details': {'audio_tokens': 0, 'cached_tokens': 0}}, 'model_provider': 'openai', 'model_name': 'gpt-5-mini-2025-08-07', 'system_fingerprint': None, 'id': 'chatcmpl-CWFOhRdTH2ussVpt0YqNAuwqs06fd', 'service_tier': 'default', 'finish_reason': 'stop', 'logprobs': None}, id='lc_run--b6f19155-9027-4bed-9c16-6ddf5711a3aa-0', usage_metadata={'input_tokens': 1026, 'output_tokens': 439, 'total_tokens': 1465, 'input_token_details': {'audio': 0, 'cache_read': 0}, 'output_token_details': {'audio': 0, 'reasoning': 320}})]}\n"
     ]
    }
   ],
   "source": [
    "# 모델에 전달할 메시지를 OpenAI의 Chat API 형식에 맞게 작성합니다.\n",
    "# 다른 모델은 다른 형식을 요구할 수 있으니, 모델 문서를 참고하세요.\n",
    "messages = [\n",
    "    {\"role\": \"user\", \"content\": \"오늘 서울 날씨는 어때?\"},\n",
    "]\n",
    "\n",
    "# Agent를 통해 모델을 호출합니다. Agent에 대한 invoke는 모델 invoke와는 다르게 dictionary 형태의 입력을 받으니 주의하세요.\n",
    "# 검색 tool이 없기 때문에, 실시간 날씨 정보를 제공하지는 못할 것입니다.\n",
    "response = agent.invoke({\"messages\":messages})\n",
    "pprint(response)"
   ]
  },
  {
   "cell_type": "code",
   "execution_count": 121,
   "id": "44446fa4",
   "metadata": {},
   "outputs": [
    {
     "name": "stdout",
     "output_type": "stream",
     "text": [
      "('지금 바로 실시간으로 조회해서 알려드릴까요?  \\n'\n",
      " '원하시면 제공할 정보 선택해 주세요:\\n'\n",
      " '- 현재 기온·체감온도·강수(비/눈) 여부\\n'\n",
      " '- 오늘 시간대별 예보(오전/오후/밤)\\n'\n",
      " '- 강수 확률·강수량\\n'\n",
      " '- 풍속·습도\\n'\n",
      " '- 미세먼지·초미세먼지 등 대기질\\n'\n",
      " '원하시는 항목 말해주시면 바로 확인해서 알려드릴게요.')\n"
     ]
    }
   ],
   "source": [
    "# 실제 답변 내용만 출력하려면 messages 리스트의 마지막 요소의 content 속성을 참조합니다.\n",
    "pprint(response[\"messages\"][-1].content)"
   ]
  },
  {
   "cell_type": "code",
   "execution_count": 52,
   "id": "755d41dc",
   "metadata": {},
   "outputs": [],
   "source": [
    "# Agent 생성 시에도 다양한 파라미터를 지정할 수 있습니다.\n",
    "# 오늘 다 다뤄보지는 못하겠지만, Agent의 세부 동작은 모두 이 파라미터들로 조정할 수 있습니다.\n",
    "# 아래 있는 것들 외에도 더 많은 파라미터가 있으니 공식 문서를 참고하세요.\n",
    "agent = create_agent(\n",
    "    model=model,\n",
    "    tools=[], # tool 리스트는 다음 챕터에서 다뤄보겠습니다.\n",
    "    system_prompt=\"You are a helpful assistant.\", # Agent의 시스템 프롬프트입니다.\n",
    "    middleware=[], # Agent의 동작 사이에 발생하는 요청이나 응답을 가로채서 처리하는 고급 기능입니다.\n",
    ")"
   ]
  },
  {
   "cell_type": "markdown",
   "id": "a3787492",
   "metadata": {},
   "source": [
    "## 3. tool 정의\n",
    "\n",
    "- 위에서 만든 Agent는 별다른 기능이 없으니 단일 모델 호출과 별로 다를 게 없죠.\n",
    "- 이제 Agent가 사용할 tool을 만들어 봅시다.\n",
    "- tool의 종류를 세 가지로 나누어 각각 만들어보겠습니다."
   ]
  },
  {
   "cell_type": "markdown",
   "id": "18b5de40",
   "metadata": {},
   "source": [
    "### 3-1. 커스텀 tool 정의\n",
    "\n",
    "- 직접 만든 Python 함수를 tool로 사용할 수 있습니다.\n",
    "- URL 또는 라이브러리를 통해 API를 호출하여 응답을 반환하는 tool도 이 방법으로 구현할 수 있습니다."
   ]
  },
  {
   "cell_type": "code",
   "execution_count": 53,
   "id": "075f2486",
   "metadata": {},
   "outputs": [],
   "source": [
    "# tool 정의를 위해 필요한 모듈입니다.\n",
    "from langchain.tools import tool\n",
    "\n",
    "# 커스텀 tool 생성\n",
    "@tool # 데코레이터를 사용하여 tool로 등록합니다.\n",
    "def calculator(num_1:int, num_2:int) -> int: # typehint는 Agent가 tool의 입출력 형식을 이해하는 데 도움을 줍니다. 안정적인 작동을 위해 반드시 작성하는게 좋습니다.\n",
    "    \"\"\"입력받은 두 수의 덧셈을 반환합니다.\"\"\" # docstring은 tool의 설명으로 사용됩니다. Agent가 tool을 선택하는 데 도움을 줍니다.\n",
    "    return num_1 + num_2"
   ]
  },
  {
   "cell_type": "markdown",
   "id": "9cf31f3a",
   "metadata": {},
   "source": [
    "### 3-2. langchain-community에 통합된 외부 tool 사용\n",
    "\n",
    "- 라이브러리를 통해 제공되는 외부 tool들을 langchain-community에서 통합하여 사용할 수 있습니다.\n",
    "- 웬만한 기능들은 langchain 생태계 내에서 쉽게 쓸 수 있으니 목록을 확인하고 활용해봅시다.\n",
    "- https://docs.langchain.com/oss/python/integrations/providers/overview"
   ]
  },
  {
   "cell_type": "code",
   "execution_count": null,
   "id": "6ef36ee9",
   "metadata": {},
   "outputs": [
    {
     "name": "stdout",
     "output_type": "stream",
     "text": [
      "ainetwork\n",
      "amadeus\n",
      "arxiv\n",
      "asknews\n",
      "audio\n",
      "azure_ai_services\n",
      "azure_cognitive_services\n",
      "bearly\n",
      "bing_search\n",
      "brave_search\n",
      "cassandra_database\n",
      "clickup\n",
      "cogniswitch\n",
      "connery\n",
      "convert_to_openai\n",
      "databricks\n",
      "dataforseo_api_search\n",
      "dataherald\n",
      "ddg_search\n",
      "e2b_data_analysis\n",
      "edenai\n",
      "eleven_labs\n",
      "few_shot\n",
      "file_management\n",
      "financial_datasets\n",
      "github\n",
      "gitlab\n",
      "gmail\n",
      "golden_query\n",
      "google_books\n",
      "google_cloud\n",
      "google_finance\n",
      "google_jobs\n",
      "google_lens\n",
      "google_places\n",
      "google_scholar\n",
      "google_search\n",
      "google_serper\n",
      "google_trends\n",
      "graphql\n",
      "human\n",
      "ifttt\n",
      "interaction\n",
      "jina_search\n",
      "jira\n",
      "json\n",
      "memorize\n",
      "merriam_webster\n",
      "metaphor_search\n",
      "mojeek_search\n",
      "multion\n",
      "nasa\n",
      "nuclia\n",
      "office365\n",
      "openai_dalle_image_generation\n",
      "openapi\n",
      "openweathermap\n",
      "passio_nutrition_ai\n",
      "playwright\n",
      "plugin\n",
      "polygon\n",
      "powerbi\n",
      "pubmed\n",
      "render\n",
      "requests\n",
      "riza\n",
      "scenexplain\n",
      "searchapi\n",
      "searx_search\n",
      "semanticscholar\n",
      "shell\n",
      "slack\n",
      "sleep\n",
      "spark_sql\n",
      "sql_database\n",
      "stackexchange\n",
      "steam\n",
      "steamship_image_generation\n",
      "tavily_search\n",
      "vectorstore\n",
      "wikidata\n",
      "wikipedia\n",
      "wolfram_alpha\n",
      "yahoo_finance_news\n",
      "you\n",
      "youtube\n",
      "zapier\n",
      "zenguard\n"
     ]
    }
   ],
   "source": [
    "# langchain community에서 통합되어 있는 외부 tool의 목록을 확인해봅시다.\n",
    "import importlib, pkgutil\n",
    "\n",
    "package = importlib.import_module(\"langchain_community.tools\")\n",
    "\n",
    "for mod in pkgutil.iter_modules(package.__path__):\n",
    "    print(mod.name)"
   ]
  },
  {
   "cell_type": "code",
   "execution_count": 54,
   "id": "abadc23a",
   "metadata": {},
   "outputs": [
    {
     "name": "stdout",
     "output_type": "stream",
     "text": [
      "['DuckDuckGoSearchRun', '__all__', '__builtins__', '__cached__', '__doc__', '__file__', '__loader__', '__name__', '__package__', '__path__', '__spec__', 'tool']\n"
     ]
    }
   ],
   "source": [
    "# duckduckgo는 api key 없이도 사용할 수 있는 웹 검색 도구입니다.\n",
    "import langchain_community.tools.ddg_search\n",
    "\n",
    "# duckduckgo 검색 tool의 속성을 확인하여 검색 기능 호출 방법을 알아봅시다.\n",
    "print(dir(langchain_community.tools.ddg_search))"
   ]
  },
  {
   "cell_type": "code",
   "execution_count": 32,
   "id": "bdf73f1f",
   "metadata": {},
   "outputs": [],
   "source": [
    "# 위에서 확인한 duckduckgo의 검색 기능을 import합니다.\n",
    "from langchain_community.tools.ddg_search import DuckDuckGoSearchRun\n",
    "\n",
    "# 검색 tool 인스턴스를 생성합니다.\n",
    "ddg_search_tool = DuckDuckGoSearchRun()"
   ]
  },
  {
   "cell_type": "code",
   "execution_count": null,
   "id": "f578afe1",
   "metadata": {},
   "outputs": [],
   "source": [
    "# 세 번째 방법을 배우기 전에, 위에서 만든 두 가지 tool을 Agent에게 전달해봅시다.\n",
    "# nano 모델은 Agent로 사용하기엔 너무 성능이 낮아 무한 루프 등 의도하지 않은 동작이 발생할 수 있으므로 mini 모델로 변경하겠습니다.\n",
    "model = init_chat_model(\"openai:gpt-5-mini\")\n",
    "\n",
    "# agent 생성 및 tool 전달\n",
    "agent = create_agent(\n",
    "    model=model,\n",
    "    tools=[calculator, ddg_search_tool], # 앞서 만든 두 가지 tool을 리스트로 전달합니다.\n",
    ")"
   ]
  },
  {
   "cell_type": "code",
   "execution_count": null,
   "id": "e75fd6e0",
   "metadata": {},
   "outputs": [
    {
     "name": "stdout",
     "output_type": "stream",
     "text": [
      "{'messages': [HumanMessage(content='2 더하기 3은 얼마야? 그리고 오늘 서울 날씨는 어때?', additional_kwargs={}, response_metadata={}, id='7208118b-2a6e-4bc8-9dd2-b88204350631'),\n",
      "              AIMessage(content='', additional_kwargs={'refusal': None}, response_metadata={'token_usage': {'completion_tokens': 259, 'prompt_tokens': 207, 'total_tokens': 466, 'completion_tokens_details': {'accepted_prediction_tokens': 0, 'audio_tokens': 0, 'reasoning_tokens': 192, 'rejected_prediction_tokens': 0}, 'prompt_tokens_details': {'audio_tokens': 0, 'cached_tokens': 0}}, 'model_provider': 'openai', 'model_name': 'gpt-5-mini-2025-08-07', 'system_fingerprint': None, 'id': 'chatcmpl-CWDoMAhw7TxzBC1vdMs6octKU1qyM', 'service_tier': 'default', 'finish_reason': 'tool_calls', 'logprobs': None}, id='lc_run--d585fce1-9d0b-49db-a35e-84618fd1d950-0', tool_calls=[{'name': 'calculator', 'args': {'num_1': 2, 'num_2': 3}, 'id': 'call_0GXxLFwcKTYRgkN4WJt6MwF8', 'type': 'tool_call'}, {'name': 'duckduckgo_search', 'args': {'query': '서울 날씨 오늘'}, 'id': 'call_hlqumlGJixlmObfHXASfJzrD', 'type': 'tool_call'}], usage_metadata={'input_tokens': 207, 'output_tokens': 259, 'total_tokens': 466, 'input_token_details': {'audio': 0, 'cache_read': 0}, 'output_token_details': {'audio': 0, 'reasoning': 192}}),\n",
      "              ToolMessage(content='5', name='calculator', id='3e6112eb-a480-4a0c-815f-40b6dab16891', tool_call_id='call_0GXxLFwcKTYRgkN4WJt6MwF8'),\n",
      "              ToolMessage(content=\"1 week ago - 또한, 해당 일자의 해와 달의 일출 및 일몰 시간도 함께 안내됩니다. 서울특별시 의 시간대별 상세 날씨 예보에는 다음과 같은 기상 요소들이 요약되어 있습니다: 날씨 상태 아이콘, 실제 기온 및 체감 기온, 강수 확률과 강수량, 습도, 기압, 최대 풍속 및 풍향. August 30, 2025 - Current weather condition is Partly cloudy with real-time temperature (32°C), humidity 75%, wind 13.3km/h, pressure (1014mb), UV (7.6), visibility (10km) in Seoul. August 17, 2025 - 연휴 마지막 날인 오늘도 열대야와 폭염이 이어지는 가운데 중북부 지방에... 202508170000169766 · 2025.08.17 00:00 · 공유하기 · 공유하기 닫기 · 페이스북 · 트위터 · 밴드 · 카카오톡 · 복사하기 · [날씨] 밤사이 서울 열대야...내일도 무더위 · 3 weeks ago - 서울특별시의 오늘: 예상온도 +19..+18 °C, 소나기, 남실바람 . 내일: +23..+20 °C, 소나기, 안개, 산들바람. RP5 4 days ago - [오늘 날씨] 전국 구름 많고 서울·충남 비…밤부터 기온 '뚝' 김영진 기자 · 승인 2025.10.26 08:21 · 댓글 0 · 페이스북 · 트위터 · 카카오스토리 · 네이버블로그 · URL복사 · 기사공유하기 · 프린트 · 메일보내기 ·\", name='duckduckgo_search', id='4d841f04-a2be-4e18-8b3e-c0ddf027bcec', tool_call_id='call_hlqumlGJixlmObfHXASfJzrD'),\n",
      "              AIMessage(content='2 + 3 = 5.\\n\\n오늘 서울 날씨는 지금 바로 최신 정보를 다시 확인해 드릴게요. 방금 검색 결과는 날짜가 섞여 있어 정확하지 않습니다(예: 과거의 “부분적으로 흐림, 32°C” 같은 정보가 섞여 나옵니다). 지금 최신 기온·강수확률·미세먼지 등을 알려드릴까요? 원하시면 바로 확인해서 알려드릴게요.', additional_kwargs={'refusal': None}, response_metadata={'token_usage': {'completion_tokens': 682, 'prompt_tokens': 1514, 'total_tokens': 2196, 'completion_tokens_details': {'accepted_prediction_tokens': 0, 'audio_tokens': 0, 'reasoning_tokens': 576, 'rejected_prediction_tokens': 0}, 'prompt_tokens_details': {'audio_tokens': 0, 'cached_tokens': 0}}, 'model_provider': 'openai', 'model_name': 'gpt-5-mini-2025-08-07', 'system_fingerprint': None, 'id': 'chatcmpl-CWDoUtajY0NM5bPEPX4CugmcvJMHb', 'service_tier': 'default', 'finish_reason': 'stop', 'logprobs': None}, id='lc_run--39f46441-891b-491b-96d6-eaf063a96f2a-0', usage_metadata={'input_tokens': 1514, 'output_tokens': 682, 'total_tokens': 2196, 'input_token_details': {'audio': 0, 'cache_read': 0}, 'output_token_details': {'audio': 0, 'reasoning': 576}})]}\n"
     ]
    }
   ],
   "source": [
    "# Agent에 전달할 메시지 객체를 생성하기 위해 필요한 모듈입니다.\n",
    "from langchain.messages import HumanMessage\n",
    "\n",
    "# Agent에 전달할 메시지 객체를 생성합니다.\n",
    "messages = [\n",
    "    HumanMessage(content=\"2 더하기 3은 얼마야? 그리고 오늘 서울 날씨는 어때?\"),\n",
    "]\n",
    "\n",
    "# Agent에 대한 invoke는 모델 invoke와는 다르게 dictionary 형태의 입력을 받으니 주의하세요.\n",
    "response = agent.invoke({\"messages\":messages})\n",
    "\n",
    "\n",
    "# Agent가 보내준 전체 응답에는 추론 과정과 tool 사용 내역이 포함되어 있습니다.\n",
    "pprint(response)"
   ]
  },
  {
   "cell_type": "code",
   "execution_count": 78,
   "id": "4192ca6a",
   "metadata": {},
   "outputs": [
    {
     "name": "stdout",
     "output_type": "stream",
     "text": [
      "('2 + 3 = 5.\\n'\n",
      " '\\n'\n",
      " '오늘 서울 날씨는 지금 바로 최신 정보를 다시 확인해 드릴게요. 방금 검색 결과는 날짜가 섞여 있어 정확하지 않습니다(예: 과거의 '\n",
      " '“부분적으로 흐림, 32°C” 같은 정보가 섞여 나옵니다). 지금 최신 기온·강수확률·미세먼지 등을 알려드릴까요? 원하시면 바로 확인해서 '\n",
      " '알려드릴게요.')\n"
     ]
    }
   ],
   "source": [
    "# 실제 답변 내용만 출력하려면 messages 리스트의 마지막 요소의 content 속성을 참조합니다.\n",
    "pprint(response[\"messages\"][-1].content)"
   ]
  },
  {
   "cell_type": "markdown",
   "id": "099846f4",
   "metadata": {},
   "source": [
    "### 3-3. 모델 vendor들이 제공하는 tool을 모델에 바인딩\n",
    "\n",
    "#### **※ 주의!! ※**\n",
    "- 현재 버전에서 Agent를 통하지 않고 단일 Model을 직접 호출해야만 사용할 수 있는 기능입니다.\n",
    "- Agent를 활용하는 경우 사용할 수 없는 방법이므로 헷갈리지 마세요!\n",
    "- 이 방법을 아예 모르고 있으면 GPT나 Docs 보고 코드 쓰다가 tool 정의 및 호출 방법을 섞어서 쓰다가 코드가 꼬일 수 있기 때문에 개념만 이해하고 넘어갑시다.\n",
    "---\n",
    "#### 실습\n",
    "- LLM API를 제공하는 vendor들은 모델에서 곧바로 이용할 수 있는 tool을 함께 서비스하고 있습니다.\n",
    "- 예를 들어, OpenAI의 경우 웹 서치, MCP 서버 연결, 벡터 스토어 검색, 코드 실행 등의 도구를 제공합니다.\n",
    "- vendor가 제공하는 tool을 Agent에 바인딩하여 사용해보겠습니다."
   ]
  },
  {
   "cell_type": "code",
   "execution_count": 106,
   "id": "1e410ece",
   "metadata": {},
   "outputs": [
    {
     "name": "stdout",
     "output_type": "stream",
     "text": [
      "[답변]: content='대한민국의 수도는 서울특별시(서울)입니다.' additional_kwargs={'refusal': None} response_metadata={'token_usage': {'completion_tokens': 215, 'prompt_tokens': 15, 'total_tokens': 230, 'completion_tokens_details': {'accepted_prediction_tokens': 0, 'audio_tokens': 0, 'reasoning_tokens': 192, 'rejected_prediction_tokens': 0}, 'prompt_tokens_details': {'audio_tokens': 0, 'cached_tokens': 0}}, 'model_provider': 'openai', 'model_name': 'gpt-5-mini-2025-08-07', 'system_fingerprint': None, 'id': 'chatcmpl-CWEixUYzsFSqqvXRNzcgMWUJVSA6y', 'service_tier': 'default', 'finish_reason': 'stop', 'logprobs': None} id='lc_run--fb9bf966-4dd6-4a16-baf7-ea0485896644-0' usage_metadata={'input_tokens': 15, 'output_tokens': 215, 'total_tokens': 230, 'input_token_details': {'audio': 0, 'cache_read': 0}, 'output_token_details': {'audio': 0, 'reasoning': 192}}\n"
     ]
    }
   ],
   "source": [
    "from langchain_openai import ChatOpenAI\n",
    "\n",
    "# 객체 생성\n",
    "llm = ChatOpenAI(\n",
    "    temperature=0.5,\n",
    "    model_name=\"gpt-5-mini\",  # 모델명\n",
    ")\n",
    "\n",
    "# 질의내용\n",
    "question = \"대한민국의 수도는 어디인가요?\"\n",
    "\n",
    "# 질의\n",
    "print(f\"[답변]: {llm.invoke(question)}\")"
   ]
  },
  {
   "cell_type": "code",
   "execution_count": 115,
   "id": "958d2115",
   "metadata": {},
   "outputs": [
    {
     "name": "stdout",
     "output_type": "stream",
     "text": [
      "AIMessage(content=[{'id': 'rs_0eecc8b18cdac91f006902f08059748196ad112fac4ed126fe', 'summary': [], 'type': 'reasoning'}, {'id': 'ws_0eecc8b18cdac91f006902f08316d88196a5ccddbdcbf469f0', 'action': {'query': '2025년 11월 한국 개봉 영화 목록', 'type': 'search'}, 'status': 'completed', 'type': 'web_search_call'}, {'id': 'rs_0eecc8b18cdac91f006902f0859cf8819696e2255719edb98b', 'summary': [], 'type': 'reasoning'}, {'id': 'ws_0eecc8b18cdac91f006902f087f504819697ea4ea3fb486686', 'action': {'query': '위키드 포 굿 한국 개봉일 2025 11월', 'type': 'search'}, 'status': 'completed', 'type': 'web_search_call'}, {'id': 'rs_0eecc8b18cdac91f006902f08a81bc8196a42207f1e9b4fbdc', 'summary': [], 'type': 'reasoning'}, {'id': 'ws_0eecc8b18cdac91f006902f08bacb88196bf0ddfc98f539707', 'action': {'query': \"Universal Pictures Korea Wicked: For Good 한국 개봉일 유니버설 픽쳐스 코리아 '위키드: 포 굿' 개봉일\", 'type': 'search'}, 'status': 'completed', 'type': 'web_search_call'}, {'id': 'rs_0eecc8b18cdac91f006902f08e5a74819697c3fb888a8d4209', 'summary': [], 'type': 'reasoning'}, {'id': 'ws_0eecc8b18cdac91f006902f08f19c081968c23b217930c4527', 'action': {'query': \"주토피아 2 한국 개봉일 2025 '주토피아 2' 개봉일 한국\", 'type': 'search'}, 'status': 'completed', 'type': 'web_search_call'}, {'id': 'rs_0eecc8b18cdac91f006902f0910fdc8196bb07f72a9864e7d0', 'summary': [], 'type': 'reasoning'}, {'id': 'ws_0eecc8b18cdac91f006902f0935ba481969e5366775e44e5f1', 'action': {'query': \"월트디즈니컴퍼니 코리아 주토피아 2 개봉일 2025 '주토피아 2' '개봉' '디즈니 코리아' \", 'type': 'search'}, 'status': 'completed', 'type': 'web_search_call'}, {'id': 'rs_0eecc8b18cdac91f006902f09504208196a54597e456a2941a', 'summary': [], 'type': 'reasoning'}, {'id': 'ws_0eecc8b18cdac91f006902f096407c8196aa5d5cc01f2e9074', 'action': {'query': \"주토피아2 11월 26일 개봉 '11월 26일' '주토피아 2' '개봉일' \", 'type': 'search'}, 'status': 'completed', 'type': 'web_search_call'}, {'id': 'rs_0eecc8b18cdac91f006902f099b3808196bc616bb3214d091c', 'summary': [], 'type': 'reasoning'}, {'id': 'ws_0eecc8b18cdac91f006902f09c21bc8196a2597e929c68e853', 'action': {'query': \"프랑켄슈타인 길예르모 델 토로 한국 개봉일 2025 'Frankenstein' Korea release date 2025 '프랑켄슈타인' 개봉일\", 'type': 'search'}, 'status': 'completed', 'type': 'web_search_call'}, {'id': 'rs_0eecc8b18cdac91f006902f09e7ecc8196a03a9aa9ebbab2f2', 'summary': [], 'type': 'reasoning'}, {'id': 'ws_0eecc8b18cdac91f006902f0a130188196882fc2e9a7c30a46', 'action': {'query': \"2025년 11월 한국 개봉 영화 '11월' '개봉' '한국' '2025' '개봉작' \", 'type': 'search'}, 'status': 'completed', 'type': 'web_search_call'}, {'id': 'rs_0eecc8b18cdac91f006902f0a4a2b88196b49d7e945044cd34', 'summary': [], 'type': 'reasoning'}, {'id': 'ws_0eecc8b18cdac91f006902f0a65b188196a35b0d0ce566a2ac', 'action': {'query': \"나우 유 씨 미 3 한국 개봉일 2025 'Now You See Me 3' '개봉' '한국' \", 'type': 'search'}, 'status': 'completed', 'type': 'web_search_call'}, {'id': 'rs_0eecc8b18cdac91f006902f0a8cd1c8196adef5756b4243a90', 'summary': [], 'type': 'reasoning'}, {'type': 'text', 'text': '좋습니다 — 기준을 분명히 할게요. 제가 말하는 “올해 11월”은 2025년 11월을 의미합니다(오늘 기준: 2025‑10‑30). 아래는 2025년 11월에 한국에서 개봉(또는 한국 관객에게 공개 예정)하는 주요 기대작들입니다.\\n\\n주요 작품(일시·간단 정보)\\n- 위키드: 포 굿 (Wicked: For Good) — 한국: 2025년 11월 19일 전세계 최초 개봉(수입·배급: 유니버설 픽쳐스). ([nocutnews.co.kr](https://www.nocutnews.co.kr/news/6405746?utm_source=openai))  \\n- 나우 유 씨 미 3 (Now You See Me 3) — 한국: 2025년 11월 12일 개봉(배급: 롯데엔터테인먼트). ([news.tf.co.kr](https://news.tf.co.kr/read/entertain/2252156.htm?utm_source=openai))  \\n- 주토피아 2 (Zootopia 2) — 한국: 2025년 11월 개봉 예정(북미 기준 2025‑11‑26; 디즈니코리아는 국내에 11월 개봉을 발표). ([koreafilm.co.kr](https://www.koreafilm.co.kr/movie/review/zootopia2.htm?utm_source=openai))  \\n- 프랑켄슈타인 (Guillermo del Toro’s Frankenstein) — 넷플릭스 공개일: 2025년 11월 7일(넷플릭스 공개 기준, 일부 지역 극장 개봉 일정과 다름). (한국에서 스트리밍 공개는 넷플릭스 제공 일정 적용). ([sortiraparis.com](https://www.sortiraparis.com/ko/palieseo-hal-il/yeonghwa-silijeu-chugje/articles/335739-yeonghwa-peulangkensyutain-2025?utm_source=openai))\\n\\n참고/추가\\n- 위에 올린 건 주요 기대작 위주입니다. 11월에는 독립·예술영화나 일부 외화의 국내 개봉일(정식 확정일)이 계속 변동될 수 있으니, 보고 싶은 작품의 정확한 상영일·시간표는 CGV/롯데시네마/메가박스 등 예매 사이트나 배급사 발표로 최종 확인하시는 것을 권합니다. (국내 영화정보 포털들에도 월별 개봉 예정 목록이 정리되어 있습니다). ([koreafilm.co.kr](https://www.koreafilm.co.kr/movie/movie_c.htm?utm_source=openai))\\n\\n마지막으로 계산 문제: 11 더하기 15는 26입니다.\\n\\n더 원하시면—원하시는 장르나 특정 작품을 알려주시면 11월 작품 전체(대형 배급작·독립·특별상영 포함)를 더 자세히 정리해 드릴게요.', 'annotations': [{'end_index': 303, 'start_index': 224, 'title': \"'위키드: 포 굿', 전 세계 최초 11월 19일 韓에서 만난다 - 노컷뉴스\", 'type': 'url_citation', 'url': 'https://www.nocutnews.co.kr/news/6405746?utm_source=openai'}, {'end_index': 461, 'start_index': 376, 'title': \"'나우 유 씨 미 3', 11월 12일 국내 개봉 - 연예 | 기사 - 더팩트\", 'type': 'url_citation', 'url': 'https://news.tf.co.kr/read/entertain/2252156.htm?utm_source=openai'}, {'end_index': 644, 'start_index': 551, 'title': '주토피아 2', 'type': 'url_citation', 'url': 'https://www.koreafilm.co.kr/movie/review/zootopia2.htm?utm_source=openai'}, {'end_index': 940, 'start_index': 781, 'title': '길레르모 델 토로의 영화 <프랑켄슈타인>, 2025년 11월 7일 넷플릭스 공개 - Sortiraparis.com', 'type': 'url_citation', 'url': 'https://www.sortiraparis.com/ko/palieseo-hal-il/yeonghwa-silijeu-chugje/articles/335739-yeonghwa-peulangkensyutain-2025?utm_source=openai'}, {'end_index': 1222, 'start_index': 1138, 'title': '금주의 개봉영화', 'type': 'url_citation', 'url': 'https://www.koreafilm.co.kr/movie/movie_c.htm?utm_source=openai'}], 'id': 'msg_0eecc8b18cdac91f006902f0b29378819694a76fcf0d9f55e4'}], additional_kwargs={}, response_metadata={'id': 'resp_0eecc8b18cdac91f006902f07f9968819685dbabd28bc26b93', 'created_at': 1761800319.0, 'metadata': {}, 'model': 'gpt-5-mini-2025-08-07', 'object': 'response', 'service_tier': 'default', 'status': 'completed', 'model_provider': 'openai', 'model_name': 'gpt-5-mini-2025-08-07'}, id='resp_0eecc8b18cdac91f006902f07f9968819685dbabd28bc26b93', usage_metadata={'input_tokens': 41215, 'output_tokens': 2708, 'total_tokens': 43923, 'input_token_details': {'cache_read': 3712}, 'output_token_details': {'reasoning': 2112}})\n"
     ]
    }
   ],
   "source": [
    "# 모델 vendor들이 제공하는 tool을 모델에 바인딩하기 위해 필요한 모듈입니다.\n",
    "from langchain_openai import ChatOpenAI\n",
    "\n",
    "# OpenAI 전용 Model 초기화 메서드입니다.\n",
    "# OpenAI 모델에서 제공하는 tool을 바인딩하기 위해서는 모델 초기화시 ChatOpenAI 클래스를 사용해야 합니다.\n",
    "model = ChatOpenAI(\n",
    "    model=\"gpt-5-mini\",\n",
    ")\n",
    "\n",
    "# ChatOpenAI 모델 인스턴스에 커스텀 tool을 바인딩합니다.\n",
    "tools = model.bind_tools([calculator]) # openai가 제공하는 검색 tool을 사용하므로 ddg_search_tool은 제외합니다.\n",
    "\n",
    "# openai가 제공하는 웹 검색 tool을 정의합니다.\n",
    "openai_tool = [{\"type\": \"web_search\"},]\n",
    "\n",
    "# model을 호출합니다.\n",
    "response = model.invoke(\n",
    "    \"올해 11월에 한국에서 개봉하는 영화 알려줘. 그리고 11 더하기 15는 몇이야?\",\n",
    "    tools=openai_tool # openai가 제공하는 tool 중 사용할 것들을 리스트로 전달합니다.\n",
    ")\n",
    "\n",
    "pprint(response)"
   ]
  },
  {
   "cell_type": "code",
   "execution_count": 116,
   "id": "ccd98107",
   "metadata": {},
   "outputs": [
    {
     "name": "stdout",
     "output_type": "stream",
     "text": [
      "좋습니다 — 기준을 분명히 할게요. 제가 말하는 “올해 11월”은 2025년 11월을 의미합니다(오늘 기준: 2025‑10‑30). 아래는 2025년 11월에 한국에서 개봉(또는 한국 관객에게 공개 예정)하는 주요 기대작들입니다.\n",
      "\n",
      "주요 작품(일시·간단 정보)\n",
      "- 위키드: 포 굿 (Wicked: For Good) — 한국: 2025년 11월 19일 전세계 최초 개봉(수입·배급: 유니버설 픽쳐스). ([nocutnews.co.kr](https://www.nocutnews.co.kr/news/6405746?utm_source=openai))  \n",
      "- 나우 유 씨 미 3 (Now You See Me 3) — 한국: 2025년 11월 12일 개봉(배급: 롯데엔터테인먼트). ([news.tf.co.kr](https://news.tf.co.kr/read/entertain/2252156.htm?utm_source=openai))  \n",
      "- 주토피아 2 (Zootopia 2) — 한국: 2025년 11월 개봉 예정(북미 기준 2025‑11‑26; 디즈니코리아는 국내에 11월 개봉을 발표). ([koreafilm.co.kr](https://www.koreafilm.co.kr/movie/review/zootopia2.htm?utm_source=openai))  \n",
      "- 프랑켄슈타인 (Guillermo del Toro’s Frankenstein) — 넷플릭스 공개일: 2025년 11월 7일(넷플릭스 공개 기준, 일부 지역 극장 개봉 일정과 다름). (한국에서 스트리밍 공개는 넷플릭스 제공 일정 적용). ([sortiraparis.com](https://www.sortiraparis.com/ko/palieseo-hal-il/yeonghwa-silijeu-chugje/articles/335739-yeonghwa-peulangkensyutain-2025?utm_source=openai))\n",
      "\n",
      "참고/추가\n",
      "- 위에 올린 건 주요 기대작 위주입니다. 11월에는 독립·예술영화나 일부 외화의 국내 개봉일(정식 확정일)이 계속 변동될 수 있으니, 보고 싶은 작품의 정확한 상영일·시간표는 CGV/롯데시네마/메가박스 등 예매 사이트나 배급사 발표로 최종 확인하시는 것을 권합니다. (국내 영화정보 포털들에도 월별 개봉 예정 목록이 정리되어 있습니다). ([koreafilm.co.kr](https://www.koreafilm.co.kr/movie/movie_c.htm?utm_source=openai))\n",
      "\n",
      "마지막으로 계산 문제: 11 더하기 15는 26입니다.\n",
      "\n",
      "더 원하시면—원하시는 장르나 특정 작품을 알려주시면 11월 작품 전체(대형 배급작·독립·특별상영 포함)를 더 자세히 정리해 드릴게요.\n"
     ]
    }
   ],
   "source": [
    "# 이번에도 실제 답변 내용만 출력해봅시다. 조금 더 깔끔한 출력을 위해 content의 각 파트를 순회하며 줄 단위로 출력합니다.\n",
    "for part in response.content:\n",
    "    if part.get(\"type\") == \"text\":\n",
    "        print(part[\"text\"])"
   ]
  },
  {
   "cell_type": "markdown",
   "id": "8806767b",
   "metadata": {},
   "source": [
    "## 4. 대화 기록 저장\n"
   ]
  },
  {
   "cell_type": "code",
   "execution_count": null,
   "id": "22b96332",
   "metadata": {},
   "outputs": [],
   "source": []
  }
 ],
 "metadata": {
  "kernelspec": {
   "display_name": "langchain_1.0_env",
   "language": "python",
   "name": "python3"
  },
  "language_info": {
   "codemirror_mode": {
    "name": "ipython",
    "version": 3
   },
   "file_extension": ".py",
   "mimetype": "text/x-python",
   "name": "python",
   "nbconvert_exporter": "python",
   "pygments_lexer": "ipython3",
   "version": "3.11.14"
  }
 },
 "nbformat": 4,
 "nbformat_minor": 5
}
