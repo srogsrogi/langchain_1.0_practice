{
 "cells": [
  {
   "cell_type": "code",
   "execution_count": 1,
   "id": "9400c7a9",
   "metadata": {},
   "outputs": [
    {
     "data": {
      "text/plain": [
       "True"
      ]
     },
     "execution_count": 1,
     "metadata": {},
     "output_type": "execute_result"
    }
   ],
   "source": [
    "from dotenv import load_dotenv\n",
    "load_dotenv()"
   ]
  },
  {
   "cell_type": "code",
   "execution_count": 2,
   "id": "20bef667",
   "metadata": {},
   "outputs": [
    {
     "name": "stderr",
     "output_type": "stream",
     "text": [
      "c:\\Users\\SSAFY\\miniconda3\\envs\\ai\\Lib\\site-packages\\tqdm\\auto.py:21: TqdmWarning: IProgress not found. Please update jupyter and ipywidgets. See https://ipywidgets.readthedocs.io/en/stable/user_install.html\n",
      "  from .autonotebook import tqdm as notebook_tqdm\n"
     ]
    }
   ],
   "source": [
    "from langchain.agents import create_agent\n",
    "\n",
    "# 사용할 tool 정의\n",
    "def get_weather(city:str) -> str:\n",
    "    \"\"\"입력받은 도시의 날씨를 반환하는 함수. 현재는 하드코딩되어 있음\"\"\"\n",
    "    return f\"It's always sunny in {city}!\"\n",
    "\n",
    "def multiply_numbers(num1:int, num2:int) ->int:\n",
    "    \"\"\"입력받은 두 개의 정수의 곱을 반환하는 함수\"\"\"\n",
    "    return num1 * num2\n",
    "\n",
    "def get_exchange_rate(currency_1, currency_2):\n",
    "    \"\"\"입력받은 두 화폐의 환율을 반환하는 함수. 현재는 하드코딩되어 있음\"\"\"\n",
    "    return f\"1{currency_1}은(는) 1000{currency_2}입니다.\"\n",
    "\n",
    "def list_supported_currencies():\n",
    "    return [\"KRW\", \"USD\", \"EUR\", \"JPY\", \"CNY\"]\n",
    "\n",
    "# agent 구축\n",
    "agent = create_agent(\n",
    "    model = 'gpt-5-nano',\n",
    "    tools = [get_weather, multiply_numbers, get_exchange_rate],\n",
    "    system_prompt=\"You're a helpful assistant\",\n",
    ")"
   ]
  },
  {
   "cell_type": "code",
   "execution_count": 15,
   "id": "44d355ab",
   "metadata": {},
   "outputs": [
    {
     "data": {
      "text/plain": [
       "{'messages': [HumanMessage(content=\"what's the weather in Seoul?\", additional_kwargs={}, response_metadata={}, id='24270cda-1ae8-48fb-a8c5-cd8d960b130d'),\n",
       "  AIMessage(content='', additional_kwargs={'refusal': None}, response_metadata={'token_usage': {'completion_tokens': 152, 'prompt_tokens': 190, 'total_tokens': 342, 'completion_tokens_details': {'accepted_prediction_tokens': 0, 'audio_tokens': 0, 'reasoning_tokens': 128, 'rejected_prediction_tokens': 0}, 'prompt_tokens_details': {'audio_tokens': 0, 'cached_tokens': 0}}, 'model_provider': 'openai', 'model_name': 'gpt-5-nano-2025-08-07', 'system_fingerprint': None, 'id': 'chatcmpl-CVTDxwFZw714RoPPsI3oav1u4PBwU', 'service_tier': 'default', 'finish_reason': 'tool_calls', 'logprobs': None}, id='lc_run--59ca9c5b-a4a7-45cc-91ba-a1b0f55c0f16-0', tool_calls=[{'name': 'get_weather', 'args': {'city': 'Seoul'}, 'id': 'call_TYr7xCIh84Dd65ZvgF53de5p', 'type': 'tool_call'}], usage_metadata={'input_tokens': 190, 'output_tokens': 152, 'total_tokens': 342, 'input_token_details': {'audio': 0, 'cache_read': 0}, 'output_token_details': {'audio': 0, 'reasoning': 128}}),\n",
       "  ToolMessage(content=\"It's always sunny in Seoul!\", name='get_weather', id='d53283fa-ab47-4cf1-bf13-029d4fc5b2fe', tool_call_id='call_TYr7xCIh84Dd65ZvgF53de5p'),\n",
       "  AIMessage(content=\"Seoul: It's always sunny in Seoul! If you’d like a more detailed forecast or want to check another city, tell me.\", additional_kwargs={'refusal': None}, response_metadata={'token_usage': {'completion_tokens': 356, 'prompt_tokens': 225, 'total_tokens': 581, 'completion_tokens_details': {'accepted_prediction_tokens': 0, 'audio_tokens': 0, 'reasoning_tokens': 320, 'rejected_prediction_tokens': 0}, 'prompt_tokens_details': {'audio_tokens': 0, 'cached_tokens': 0}}, 'model_provider': 'openai', 'model_name': 'gpt-5-nano-2025-08-07', 'system_fingerprint': None, 'id': 'chatcmpl-CVTE0rqqmidHFkcdlzucGvShJ7KR3', 'service_tier': 'default', 'finish_reason': 'stop', 'logprobs': None}, id='lc_run--0e8e9b95-edbe-4d4b-b856-d9663fa4efa6-0', usage_metadata={'input_tokens': 225, 'output_tokens': 356, 'total_tokens': 581, 'input_token_details': {'audio': 0, 'cache_read': 0}, 'output_token_details': {'audio': 0, 'reasoning': 320}})]}"
      ]
     },
     "execution_count": 15,
     "metadata": {},
     "output_type": "execute_result"
    }
   ],
   "source": [
    "\n",
    "# agent 호출(1번 도구)\n",
    "agent.invoke(\n",
    "    {\"messages\": [{\"role\": \"user\", \"content\": \"what's the weather in Seoul?\"}]}\n",
    ")"
   ]
  },
  {
   "cell_type": "code",
   "execution_count": 16,
   "id": "8b73f4c0",
   "metadata": {},
   "outputs": [
    {
     "data": {
      "text/plain": [
       "{'messages': [HumanMessage(content='what is the value 2*4?', additional_kwargs={}, response_metadata={}, id='e888217b-b4eb-45cd-ab43-62347b3d838f'),\n",
       "  AIMessage(content='8\\n\\n(2 multiplied by 4 equals 8. If you want, I can show it as repeated addition: 2 + 2 + 2 + 2 = 8.)', additional_kwargs={'refusal': None}, response_metadata={'token_usage': {'completion_tokens': 304, 'prompt_tokens': 192, 'total_tokens': 496, 'completion_tokens_details': {'accepted_prediction_tokens': 0, 'audio_tokens': 0, 'reasoning_tokens': 256, 'rejected_prediction_tokens': 0}, 'prompt_tokens_details': {'audio_tokens': 0, 'cached_tokens': 0}}, 'model_provider': 'openai', 'model_name': 'gpt-5-nano-2025-08-07', 'system_fingerprint': None, 'id': 'chatcmpl-CVTEIS68wmF2Z97ZTHBHLV6KRfr3n', 'service_tier': 'default', 'finish_reason': 'stop', 'logprobs': None}, id='lc_run--4a61a3c9-e63b-48e3-ae13-7dcb3d96b2ea-0', usage_metadata={'input_tokens': 192, 'output_tokens': 304, 'total_tokens': 496, 'input_token_details': {'audio': 0, 'cache_read': 0}, 'output_token_details': {'audio': 0, 'reasoning': 256}})]}"
      ]
     },
     "execution_count": 16,
     "metadata": {},
     "output_type": "execute_result"
    }
   ],
   "source": [
    "# agent 호출(2번 도구)\n",
    "agent.invoke(\n",
    "    {\"messages\": [{\"role\": \"user\", \"content\": \"what is the value 2*4?\"}]}\n",
    ")"
   ]
  },
  {
   "cell_type": "code",
   "execution_count": 21,
   "id": "af9aee32",
   "metadata": {},
   "outputs": [
    {
     "data": {
      "text/plain": [
       "{'messages': [HumanMessage(content='원/달러 환율 알려줘.', additional_kwargs={}, response_metadata={}, id='6cf7b2cc-33bb-4a77-997d-bc87952facf5'),\n",
       "  AIMessage(content='', additional_kwargs={'refusal': None}, response_metadata={'token_usage': {'completion_tokens': 417, 'prompt_tokens': 238, 'total_tokens': 655, 'completion_tokens_details': {'accepted_prediction_tokens': 0, 'audio_tokens': 0, 'reasoning_tokens': 384, 'rejected_prediction_tokens': 0}, 'prompt_tokens_details': {'audio_tokens': 0, 'cached_tokens': 0}}, 'model_provider': 'openai', 'model_name': 'gpt-5-nano-2025-08-07', 'system_fingerprint': None, 'id': 'chatcmpl-CVU4RDvocHQs8OpuOEQOpN1pvQLkP', 'service_tier': 'default', 'finish_reason': 'tool_calls', 'logprobs': None}, id='lc_run--9183f5ff-0796-4aa9-8315-736bea4c8fcb-0', tool_calls=[{'name': 'get_exchange_rate', 'args': {'currency_1': 'KRW', 'currency_2': 'USD'}, 'id': 'call_AW0xAl3kG7Ia8Ndf7qTThQ1O', 'type': 'tool_call'}], usage_metadata={'input_tokens': 238, 'output_tokens': 417, 'total_tokens': 655, 'input_token_details': {'audio': 0, 'cache_read': 0}, 'output_token_details': {'audio': 0, 'reasoning': 384}}),\n",
       "  ToolMessage(content='1KRW은(는) 1000USD입니다.', name='get_exchange_rate', id='fe878790-1e0c-481b-9db3-92ecfedf004a', tool_call_id='call_AW0xAl3kG7Ia8Ndf7qTThQ1O'),\n",
       "  AIMessage(content='현재 시스템에서 제공되는 예시 값에 따르면:\\n- 1 KRW = 1000 USD (테스트 데이터로 고정된 값)\\n\\n참고: 이 값은 실제 시장 환율이 아니라 테스트용 예시 값입니다. 실제 실시간 환율을 원하시면 실시간 데이터를 조회해 드리겠습니다.\\n\\n원하시면 실시간 환율로 다시 조회해 드리거나, 이 예시 값을 바탕으로 특정 금액 환산도 계산해 드릴 수 있습니다. 어떤 방식으로 도와드릴까요?', additional_kwargs={'refusal': None}, response_metadata={'token_usage': {'completion_tokens': 1145, 'prompt_tokens': 290, 'total_tokens': 1435, 'completion_tokens_details': {'accepted_prediction_tokens': 0, 'audio_tokens': 0, 'reasoning_tokens': 1024, 'rejected_prediction_tokens': 0}, 'prompt_tokens_details': {'audio_tokens': 0, 'cached_tokens': 0}}, 'model_provider': 'openai', 'model_name': 'gpt-5-nano-2025-08-07', 'system_fingerprint': None, 'id': 'chatcmpl-CVU4Wks3Xy2756Dp1hGqmheiomIvE', 'service_tier': 'default', 'finish_reason': 'stop', 'logprobs': None}, id='lc_run--8a795b6e-0e8c-4216-a353-2bc343a3243a-0', usage_metadata={'input_tokens': 290, 'output_tokens': 1145, 'total_tokens': 1435, 'input_token_details': {'audio': 0, 'cache_read': 0}, 'output_token_details': {'audio': 0, 'reasoning': 1024}})]}"
      ]
     },
     "execution_count": 21,
     "metadata": {},
     "output_type": "execute_result"
    }
   ],
   "source": [
    "# agent 호출(3번 도구)\n",
    "agent.invoke(\n",
    "    {\"messages\": [{\"role\": \"user\", \"content\": \"원/달러 환율 알려줘.\"}]}\n",
    ")"
   ]
  },
  {
   "cell_type": "code",
   "execution_count": 3,
   "id": "39025a8c",
   "metadata": {},
   "outputs": [],
   "source": [
    "SYSTEM_PROMPT = \"\"\"\n",
    "당신은 재치 있는 금융 애널리스트이자 환율 전문가입니다. \n",
    "돈과 관련된 말장난을 좋아하지만, 정보는 정확하게 전달합니다.\n",
    "\n",
    "당신은 두 가지 도구에 접근할 수 있습니다:\n",
    "\n",
    "- get_exchange_rate: 두 통화 간의 현재 환율을 조회합니다. (예: USD → KRW)\n",
    "- list_supported_currencies: 지원되는 통화 코드 목록을 조회합니다. (예: USD, EUR, JPY, KRW)\n",
    "\n",
    "당신의 역할은 다음과 같습니다:\n",
    "1. 사용자가 어떤 두 통화를 비교하려는지 파악하세요.  \n",
    "   - 만약 사용자가 한쪽 통화만 말한다면(예: “1달러는 얼마야?”),  \n",
    "     다른 쪽은 사용자의 기본 통화(기본값: KRW)라고 가정하세요.\n",
    "2. “달러”처럼 모호한 통화명은 반드시 어떤 달러(USD, AUD, CAD 등)인지 확인하세요.\n",
    "3. 두 통화가 명확히 정해지면 get_exchange_rate를 호출하세요.\n",
    "4. 사용자가 “어떤 통화를 지원하나요?” 같은 질문을 하면 list_supported_currencies를 사용하세요.\n",
    "5. 답변은 친근하고, 돈이나 환율과 관련된 가벼운 농담을 섞어도 좋습니다.  \n",
    "   (단, 정보의 정확성이 항상 우선입니다.)\n",
    "\n",
    "예시 행동:\n",
    "- 사용자가 “1유로는 원으로 얼마야?”라고 물으면, get_exchange_rate(currency_1=\"EUR\", currency_2=\"KRW\")를 호출하세요.  \n",
    "- 사용자가 “오늘 달러 환율 어때?”라고 하면, 어떤 달러인지(예: USD?)를 먼저 확인하세요.  \n",
    "- 사용자가 “지원하는 통화 뭐 있어?”라고 하면, list_supported_currencies를 호출하세요.\n",
    "\n",
    "전문적이지만 친근한 태도로,  \n",
    "‘돈 냄새 나는 유머 센스’를 보여주세요.\n",
    "\"\"\"\n"
   ]
  },
  {
   "cell_type": "code",
   "execution_count": 4,
   "id": "b3a37e3b",
   "metadata": {},
   "outputs": [],
   "source": [
    "from dataclasses import dataclass\n",
    "from langchain.tools import tool, ToolRuntime\n",
    "import requests\n",
    "import os\n",
    "\n",
    "@tool\n",
    "def get_exchange_rate_from_api(currency_1:str, currency_2:str, amount: str='1') -> str:\n",
    "    \"\"\"환율 API를 통해 통화 간 환율을 반환하는 함수입니다.\n",
    "    currency_1: 기준 통화 (예: USD)\n",
    "    currency_2: 변환 대상 통화 (예: KRW)\n",
    "    amount: 환산할 금액 (기본값 1)\"\"\"\n",
    "    API_KEY = os.getenv('EXCHANGE_RATE_API_KEY')\n",
    "    url = f\"https://api.exchangerate.host/convert?access_key={API_KEY}&from={currency_1}&to={currency_2}&amount={amount}\"\n",
    "    response = requests.get(url)\n",
    "    data = response.json()\n",
    "    print(data)\n",
    "    rate = data['info']['quote']\n",
    "    result = data.get('result', {})\n",
    "    return result\n",
    "\n",
    "@dataclass\n",
    "class Context:\n",
    "    \"\"\"사용자별 런타임 정보를 담는 구조체 클래스입니다.\"\"\"\n",
    "    user_id: str\n",
    "    preferred_currency = 'KRW'\n",
    "\n",
    "@tool\n",
    "def list_supported_currencies(runtime: ToolRuntime[Context]) -> str:\n",
    "    \"\"\"사용자 정보를 참고해 지원되는 통화 목록을 반환하는 함수입니다.\"\"\"\n",
    "    user_context = runtime.context\n",
    "    base_currency = user_context.preferred_currency\n",
    "\n",
    "    supported = ['KRW', 'USD', 'EUR', 'JPY', 'CNY', 'AUD', 'CAD']\n",
    "\n",
    "    msg = f\"현재 지원되는 통화는 다음과 같습니다:\\n{', '.join(supported)}.\\n\"\n",
    "    msg += f\"당신의 기본 통화는 {base_currency} 입니다.\"\n",
    "\n",
    "    return msg"
   ]
  },
  {
   "cell_type": "code",
   "execution_count": null,
   "id": "a7e0ee29",
   "metadata": {},
   "outputs": [
    {
     "ename": "TypeError",
     "evalue": "create_agent() got an unexpected keyword argument 'tool_choice'",
     "output_type": "error",
     "traceback": [
      "\u001b[31m---------------------------------------------------------------------------\u001b[39m",
      "\u001b[31mTypeError\u001b[39m                                 Traceback (most recent call last)",
      "\u001b[36mCell\u001b[39m\u001b[36m \u001b[39m\u001b[32mIn[27]\u001b[39m\u001b[32m, line 2\u001b[39m\n\u001b[32m      1\u001b[39m \u001b[38;5;66;03m# agent 구축\u001b[39;00m\n\u001b[32m----> \u001b[39m\u001b[32m2\u001b[39m agent = \u001b[43mcreate_agent\u001b[49m\u001b[43m(\u001b[49m\n\u001b[32m      3\u001b[39m \u001b[43m    \u001b[49m\u001b[43mmodel\u001b[49m\u001b[43m \u001b[49m\u001b[43m=\u001b[49m\u001b[43m \u001b[49m\u001b[33;43m'\u001b[39;49m\u001b[33;43mgpt-5-nano\u001b[39;49m\u001b[33;43m'\u001b[39;49m\u001b[43m,\u001b[49m\u001b[43m \u001b[49m\u001b[43mtool_choice\u001b[49m\u001b[43m=\u001b[49m\u001b[33;43m'\u001b[39;49m\u001b[33;43many\u001b[39;49m\u001b[33;43m'\u001b[39;49m\u001b[43m,\u001b[49m\n\u001b[32m      4\u001b[39m \u001b[43m    \u001b[49m\u001b[43mtools\u001b[49m\u001b[43m \u001b[49m\u001b[43m=\u001b[49m\u001b[43m \u001b[49m\u001b[43m[\u001b[49m\u001b[43mlist_supported_currencies\u001b[49m\u001b[43m,\u001b[49m\u001b[43m \u001b[49m\u001b[43mget_exchange_rate_from_api\u001b[49m\u001b[43m]\u001b[49m\u001b[43m,\u001b[49m\n\u001b[32m      5\u001b[39m \u001b[43m    \u001b[49m\u001b[43msystem_prompt\u001b[49m\u001b[43m=\u001b[49m\u001b[43mSYSTEM_PROMPT\u001b[49m\u001b[43m,\u001b[49m\n\u001b[32m      6\u001b[39m \u001b[43m)\u001b[49m\n",
      "\u001b[31mTypeError\u001b[39m: create_agent() got an unexpected keyword argument 'tool_choice'"
     ]
    }
   ],
   "source": [
    "# agent 구축\n",
    "agent = create_agent(\n",
    "    model = 'gpt-5-nano',\n",
    "    tools = [list_supported_currencies, get_exchange_rate_from_api],\n",
    "    system_prompt=SYSTEM_PROMPT,\n",
    ")"
   ]
  },
  {
   "cell_type": "code",
   "execution_count": 6,
   "id": "54189256",
   "metadata": {},
   "outputs": [
    {
     "name": "stdout",
     "output_type": "stream",
     "text": [
      "{'success': True, 'terms': 'https://currencylayer.com/terms', 'privacy': 'https://currencylayer.com/privacy', 'query': {'from': 'CAD', 'to': 'KRW', 'amount': 1}, 'info': {'timestamp': 1761642424, 'quote': 1026.132361}, 'result': 1026.132361}\n"
     ]
    },
    {
     "data": {
      "text/plain": [
       "{'messages': [HumanMessage(content='1 캐나다달러가 얼마야?', additional_kwargs={}, response_metadata={}, id='d32bda37-c84e-4ed4-9e26-05c94101f4e7'),\n",
       "  AIMessage(content='', additional_kwargs={'refusal': None}, response_metadata={'token_usage': {'completion_tokens': 359, 'prompt_tokens': 653, 'total_tokens': 1012, 'completion_tokens_details': {'accepted_prediction_tokens': 0, 'audio_tokens': 0, 'reasoning_tokens': 320, 'rejected_prediction_tokens': 0}, 'prompt_tokens_details': {'audio_tokens': 0, 'cached_tokens': 0}}, 'model_provider': 'openai', 'model_name': 'gpt-5-nano-2025-08-07', 'system_fingerprint': None, 'id': 'chatcmpl-CVZxinBK7g7P0dFEJRtqzMeZUA282', 'service_tier': 'default', 'finish_reason': 'tool_calls', 'logprobs': None}, id='lc_run--5c096271-de45-45bf-9689-a83bde4e662c-0', tool_calls=[{'name': 'get_exchange_rate_from_api', 'args': {'currency_1': 'CAD', 'currency_2': 'KRW', 'amount': '1'}, 'id': 'call_6sT6GH2pLt5SMx0M2RvQNLeC', 'type': 'tool_call'}], usage_metadata={'input_tokens': 653, 'output_tokens': 359, 'total_tokens': 1012, 'input_token_details': {'audio': 0, 'cache_read': 0}, 'output_token_details': {'audio': 0, 'reasoning': 320}}),\n",
       "  ToolMessage(content='1026.132361', name='get_exchange_rate_from_api', id='77580d53-dbeb-471b-b232-8385541b527e', tool_call_id='call_6sT6GH2pLt5SMx0M2RvQNLeC'),\n",
       "  AIMessage(content='캐나다 달러 1 CAD은 현재 약 1,026.13 KRW예요. (실시간 환율 1026.132361 KRW로 표시된 값에서 소수점 둘째자리 반올림)\\n\\n참고로 환율은 시시각각 변동되니, 정확한 거래 시점의 수수료를 반영한 최종 금액은 다를 수 있습니다. 원하시면 1 CAD당 다른 통화로도 환산해 드리거나, 예를 들어 10 CAD는 몇 원인지도 바로 계산해 드릴게요. 어떤 계산이 필요하신가요? 돈 냄새 나는 농담도 살짝 곁들여 드릴게요.', additional_kwargs={'refusal': None}, response_metadata={'token_usage': {'completion_tokens': 738, 'prompt_tokens': 705, 'total_tokens': 1443, 'completion_tokens_details': {'accepted_prediction_tokens': 0, 'audio_tokens': 0, 'reasoning_tokens': 576, 'rejected_prediction_tokens': 0}, 'prompt_tokens_details': {'audio_tokens': 0, 'cached_tokens': 0}}, 'model_provider': 'openai', 'model_name': 'gpt-5-nano-2025-08-07', 'system_fingerprint': None, 'id': 'chatcmpl-CVZxoXSD09VIXH4aRqGEbSn1iEXMM', 'service_tier': 'default', 'finish_reason': 'stop', 'logprobs': None}, id='lc_run--82c19fad-079c-463a-8c5d-3c5a6fd1307b-0', usage_metadata={'input_tokens': 705, 'output_tokens': 738, 'total_tokens': 1443, 'input_token_details': {'audio': 0, 'cache_read': 0}, 'output_token_details': {'audio': 0, 'reasoning': 576}})]}"
      ]
     },
     "execution_count": 6,
     "metadata": {},
     "output_type": "execute_result"
    }
   ],
   "source": [
    "# agent 호출\n",
    "agent.invoke(\n",
    "    {\"messages\": [{\"role\": \"user\", \"content\": \"1 캐나다달러가 얼마야?\"}]}\n",
    ")"
   ]
  },
  {
   "cell_type": "code",
   "execution_count": 31,
   "id": "6e5a42ac",
   "metadata": {},
   "outputs": [],
   "source": [
    "# llm init\n",
    "from langchain.chat_models import init_chat_model\n",
    "\n",
    "llm = init_chat_model(\n",
    "    'gpt-5o-nano',\n",
    "    api_key = os.getenv('OPENAI_API_KEY'),\n",
    ")"
   ]
  },
  {
   "cell_type": "code",
   "execution_count": null,
   "id": "f88930b2",
   "metadata": {},
   "outputs": [],
   "source": [
    "# 응답 형식 정의\n",
    "from dataclasses import dataclass\n",
    "\n",
    "@dataclass\n",
    "class ExchangeRateResponse:\n",
    "    \"\"\"환율 정보를 반환하는 챗봇 응답 스키마입니다.\"\"\"\n",
    "    \n",
    "    # 요청된 통화쌍 (예: \"USD/KRW\", \"EUR/USD\")\n",
    "    currency_pair: str\n",
    "    \n",
    "    # 현재 환율 값 (소수점 단위로 표시)\n",
    "    exchange_rate: float\n",
    "    \n",
    "    # 기준일시 (예: \"2025-10-28 15:00 UTC\")\n",
    "    timestamp: str\n",
    "    \n",
    "    # 환율 관련 추가 설명 또는 경제적 맥락 (선택 사항)\n",
    "    commentary: str | None = None"
   ]
  },
  {
   "cell_type": "code",
   "execution_count": 10,
   "id": "33a8aca8",
   "metadata": {},
   "outputs": [],
   "source": [
    "# 메모리 추가(멀티턴 대화 지원)\n",
    "from langgraph.checkpoint.memory import InMemorySaver\n",
    "\n",
    "checkpointer = InMemorySaver()"
   ]
  },
  {
   "cell_type": "code",
   "execution_count": null,
   "id": "14be5084",
   "metadata": {},
   "outputs": [],
   "source": [
    "# agent 구축\n",
    "agent = create_agent(\n",
    "    model='gpt-5-nano',\n",
    "    system_prompt=SYSTEM_PROMPT,\n",
    "    tools=[get_exchange_rate_from_api, list_supported_currencies],\n",
    "    context_schema=Context, # 직접 정의한 Context class 사용\n",
    "    response_format=ExchangeRateResponse,\n",
    "    checkpointer=checkpointer,\n",
    ")"
   ]
  },
  {
   "cell_type": "code",
   "execution_count": 18,
   "id": "f51b7aa9",
   "metadata": {},
   "outputs": [],
   "source": [
    "# 대화 내용 유지할 쓰레드 설정\n",
    "config = {\"configurable\": {\"thread_id\": \"1\"}}"
   ]
  },
  {
   "cell_type": "code",
   "execution_count": 26,
   "id": "b93958ef",
   "metadata": {},
   "outputs": [
    {
     "name": "stdout",
     "output_type": "stream",
     "text": [
      "{'messages': [HumanMessage(content='밥 먹었어?', additional_kwargs={}, response_metadata={}, id='1deb3be8-ecc1-4b38-9003-fdd08f5cf96a'), AIMessage(content='{\"\":\"\"}', additional_kwargs={'parsed': None, 'refusal': None}, response_metadata={'token_usage': {'completion_tokens': 529, 'prompt_tokens': 160, 'total_tokens': 689, 'completion_tokens_details': {'accepted_prediction_tokens': 0, 'audio_tokens': 0, 'reasoning_tokens': 512, 'rejected_prediction_tokens': 0}, 'prompt_tokens_details': {'audio_tokens': 0, 'cached_tokens': 0}}, 'model_provider': 'openai', 'model_name': 'gpt-5-nano-2025-08-07', 'system_fingerprint': None, 'id': 'chatcmpl-CVc7VjJQayDTtWPqAv6NkILOYW2AB', 'service_tier': 'default', 'finish_reason': 'stop', 'logprobs': None}, id='lc_run--62f2f5cd-cccf-4e30-b5c9-007f5757d461-0', usage_metadata={'input_tokens': 160, 'output_tokens': 529, 'total_tokens': 689, 'input_token_details': {'audio': 0, 'cache_read': 0}, 'output_token_details': {'audio': 0, 'reasoning': 512}})], 'structured_response': ResponseFormat()}\n"
     ]
    }
   ],
   "source": [
    "response = agent.invoke(\n",
    "    {\"messages\": [{\"role\": \"user\", \"content\": \"밥 먹었어?\"}]},\n",
    "    config=config,\n",
    "    context=Context(user_id=\"1\")\n",
    ")\n",
    "\n",
    "\n",
    "print(response)"
   ]
  },
  {
   "cell_type": "code",
   "execution_count": 22,
   "id": "7fb109b2",
   "metadata": {},
   "outputs": [],
   "source": [
    "# 웹 서치하는 agent 구축\n",
    "from langchain.tools import tool\n",
    "import requests\n",
    "\n",
    "@tool\n",
    "def web_search(query: str) -> str:\n",
    "    \"\"\"주어진 검색어로 웹에서 최신 정보를 찾아 요약합니다.\"\"\"\n",
    "    r = requests.get(f\"https://api.duckduckgo.com/?q={query}&format=json\")\n",
    "    return r.json().get(\"AbstractText\", \"검색 결과 없음\")\n",
    "\n",
    "ResponseFormat = dataclass(\n",
    "    type(\"ResponseFormat\", (), {\n",
    "        \"search_result\": str,\n",
    "        \"source_url\": str\n",
    "    })\n",
    ")\n",
    "\n",
    "agent = create_agent(\n",
    "    model='gpt-5-nano',\n",
    "    tools=[web_search],\n",
    "    response_format=ResponseFormat\n",
    ")"
   ]
  },
  {
   "cell_type": "code",
   "execution_count": 25,
   "id": "36b928b1",
   "metadata": {},
   "outputs": [
    {
     "name": "stdout",
     "output_type": "stream",
     "text": [
      "{'messages': [HumanMessage(content='최근 AI 기술 동향에 대해 알려줘.', additional_kwargs={}, response_metadata={}, id='90bc7f24-afef-462a-86ef-6af7ca30bd2c'), AIMessage(content='', additional_kwargs={'parsed': None, 'refusal': None}, response_metadata={'token_usage': {'completion_tokens': 605, 'prompt_tokens': 164, 'total_tokens': 769, 'completion_tokens_details': {'accepted_prediction_tokens': 0, 'audio_tokens': 0, 'reasoning_tokens': 576, 'rejected_prediction_tokens': 0}, 'prompt_tokens_details': {'audio_tokens': 0, 'cached_tokens': 0}}, 'model_provider': 'openai', 'model_name': 'gpt-5-nano-2025-08-07', 'system_fingerprint': None, 'id': 'chatcmpl-CVc0cNbQ4EUANqbMAgamX2v1NNq8c', 'service_tier': 'default', 'finish_reason': 'tool_calls', 'logprobs': None}, id='lc_run--b2f8418a-7ad1-4760-b869-0f9eba756a04-0', tool_calls=[{'name': 'web_search', 'args': {'query': '2025년 AI 기술 동향'}, 'id': 'call_mh70nSCLekXA1y081pl4zuDy', 'type': 'tool_call'}], usage_metadata={'input_tokens': 164, 'output_tokens': 605, 'total_tokens': 769, 'input_token_details': {'audio': 0, 'cache_read': 0}, 'output_token_details': {'audio': 0, 'reasoning': 576}}), ToolMessage(content='', name='web_search', id='64b2dc72-36fa-4fb0-a547-0fb5c71b195a', tool_call_id='call_mh70nSCLekXA1y081pl4zuDy'), AIMessage(content='', additional_kwargs={'parsed': None, 'refusal': None}, response_metadata={'token_usage': {'completion_tokens': 350, 'prompt_tokens': 198, 'total_tokens': 548, 'completion_tokens_details': {'accepted_prediction_tokens': 0, 'audio_tokens': 0, 'reasoning_tokens': 320, 'rejected_prediction_tokens': 0}, 'prompt_tokens_details': {'audio_tokens': 0, 'cached_tokens': 0}}, 'model_provider': 'openai', 'model_name': 'gpt-5-nano-2025-08-07', 'system_fingerprint': None, 'id': 'chatcmpl-CVc0iVhpDpDqHAPaNMklrik3uBvpL', 'service_tier': 'default', 'finish_reason': 'tool_calls', 'logprobs': None}, id='lc_run--ffd3c4fc-7727-482b-beed-d21e82442ef0-0', tool_calls=[{'name': 'web_search', 'args': {'query': '2025년 AI 기술 동향'}, 'id': 'call_OMRANNkRX9aLGDdgX7Mh2QXN', 'type': 'tool_call'}], usage_metadata={'input_tokens': 198, 'output_tokens': 350, 'total_tokens': 548, 'input_token_details': {'audio': 0, 'cache_read': 0}, 'output_token_details': {'audio': 0, 'reasoning': 320}}), ToolMessage(content='', name='web_search', id='a904e23d-a408-45bd-9d44-c5887604b78b', tool_call_id='call_OMRANNkRX9aLGDdgX7Mh2QXN'), AIMessage(content='', additional_kwargs={'parsed': None, 'refusal': None}, response_metadata={'token_usage': {'completion_tokens': 669, 'prompt_tokens': 232, 'total_tokens': 901, 'completion_tokens_details': {'accepted_prediction_tokens': 0, 'audio_tokens': 0, 'reasoning_tokens': 640, 'rejected_prediction_tokens': 0}, 'prompt_tokens_details': {'audio_tokens': 0, 'cached_tokens': 0}}, 'model_provider': 'openai', 'model_name': 'gpt-5-nano-2025-08-07', 'system_fingerprint': None, 'id': 'chatcmpl-CVc0nUMPK3Eg4AMiYxhrvpfMWp4Rt', 'service_tier': 'default', 'finish_reason': 'tool_calls', 'logprobs': None}, id='lc_run--650fdc25-d1a3-45ee-9fe0-a89b03575927-0', tool_calls=[{'name': 'web_search', 'args': {'query': '2025년 AI 기술 동향'}, 'id': 'call_2VsZj44GVsFhhMqmI8Xlm8NS', 'type': 'tool_call'}], usage_metadata={'input_tokens': 232, 'output_tokens': 669, 'total_tokens': 901, 'input_token_details': {'audio': 0, 'cache_read': 0}, 'output_token_details': {'audio': 0, 'reasoning': 640}}), ToolMessage(content='', name='web_search', id='bebba1b4-63a3-420f-9839-7c9ccc263600', tool_call_id='call_2VsZj44GVsFhhMqmI8Xlm8NS'), AIMessage(content='', additional_kwargs={'parsed': None, 'refusal': None}, response_metadata={'token_usage': {'completion_tokens': 354, 'prompt_tokens': 266, 'total_tokens': 620, 'completion_tokens_details': {'accepted_prediction_tokens': 0, 'audio_tokens': 0, 'reasoning_tokens': 320, 'rejected_prediction_tokens': 0}, 'prompt_tokens_details': {'audio_tokens': 0, 'cached_tokens': 0}}, 'model_provider': 'openai', 'model_name': 'gpt-5-nano-2025-08-07', 'system_fingerprint': None, 'id': 'chatcmpl-CVc0vvtmfYqy8oPBHTOr9bLegs6zv', 'service_tier': 'default', 'finish_reason': 'tool_calls', 'logprobs': None}, id='lc_run--44c60905-c36a-44a7-8a78-02049dec3742-0', tool_calls=[{'name': 'web_search', 'args': {'query': '최근 AI 기술 트렌드 2024 2025'}, 'id': 'call_xZl9To7PlWSxwIqQ6yB8qcpP', 'type': 'tool_call'}], usage_metadata={'input_tokens': 266, 'output_tokens': 354, 'total_tokens': 620, 'input_token_details': {'audio': 0, 'cache_read': 0}, 'output_token_details': {'audio': 0, 'reasoning': 320}}), ToolMessage(content='', name='web_search', id='71f422b8-257a-47f6-84bd-034472d674ab', tool_call_id='call_xZl9To7PlWSxwIqQ6yB8qcpP'), AIMessage(content='', additional_kwargs={'parsed': None, 'refusal': None}, response_metadata={'token_usage': {'completion_tokens': 28, 'prompt_tokens': 305, 'total_tokens': 333, 'completion_tokens_details': {'accepted_prediction_tokens': 0, 'audio_tokens': 0, 'reasoning_tokens': 0, 'rejected_prediction_tokens': 0}, 'prompt_tokens_details': {'audio_tokens': 0, 'cached_tokens': 0}}, 'model_provider': 'openai', 'model_name': 'gpt-5-nano-2025-08-07', 'system_fingerprint': None, 'id': 'chatcmpl-CVc0z064gDiS776uFaqGKHbhDlVxm', 'service_tier': 'default', 'finish_reason': 'tool_calls', 'logprobs': None}, id='lc_run--32adffbb-e9cf-4668-a7b4-0c461d15984c-0', tool_calls=[{'name': 'web_search', 'args': {'query': '최근 AI 기술 트렌드 2024 2025'}, 'id': 'call_F1iL0u5yJs9Lb2DzZF1U0dIg', 'type': 'tool_call'}], usage_metadata={'input_tokens': 305, 'output_tokens': 28, 'total_tokens': 333, 'input_token_details': {'audio': 0, 'cache_read': 0}, 'output_token_details': {'audio': 0, 'reasoning': 0}}), ToolMessage(content='', name='web_search', id='334e9a9e-67ec-4e5e-ab46-26613329183d', tool_call_id='call_F1iL0u5yJs9Lb2DzZF1U0dIg'), AIMessage(content='', additional_kwargs={'parsed': None, 'refusal': None}, response_metadata={'token_usage': {'completion_tokens': 29, 'prompt_tokens': 344, 'total_tokens': 373, 'completion_tokens_details': {'accepted_prediction_tokens': 0, 'audio_tokens': 0, 'reasoning_tokens': 0, 'rejected_prediction_tokens': 0}, 'prompt_tokens_details': {'audio_tokens': 0, 'cached_tokens': 0}}, 'model_provider': 'openai', 'model_name': 'gpt-5-nano-2025-08-07', 'system_fingerprint': None, 'id': 'chatcmpl-CVc11i8Ofdvpuu5a89UjK8Yg5wfQ6', 'service_tier': 'default', 'finish_reason': 'tool_calls', 'logprobs': None}, id='lc_run--ac1dea9f-7d2e-4cdd-a423-9c2f7a25bf17-0', tool_calls=[{'name': 'web_search', 'args': {'query': '최근 인공지능 기술 동향 2024 2025'}, 'id': 'call_fQHGJF0FmvfXYayllf7TXhC4', 'type': 'tool_call'}], usage_metadata={'input_tokens': 344, 'output_tokens': 29, 'total_tokens': 373, 'input_token_details': {'audio': 0, 'cache_read': 0}, 'output_token_details': {'audio': 0, 'reasoning': 0}}), ToolMessage(content='', name='web_search', id='3f18a743-5cfe-472e-9769-b9016b977ac2', tool_call_id='call_fQHGJF0FmvfXYayllf7TXhC4'), AIMessage(content='', additional_kwargs={'parsed': None, 'refusal': None}, response_metadata={'token_usage': {'completion_tokens': 29, 'prompt_tokens': 384, 'total_tokens': 413, 'completion_tokens_details': {'accepted_prediction_tokens': 0, 'audio_tokens': 0, 'reasoning_tokens': 0, 'rejected_prediction_tokens': 0}, 'prompt_tokens_details': {'audio_tokens': 0, 'cached_tokens': 0}}, 'model_provider': 'openai', 'model_name': 'gpt-5-nano-2025-08-07', 'system_fingerprint': None, 'id': 'chatcmpl-CVc14uruozSVnHBX4UjWi0E5r2Bq5', 'service_tier': 'default', 'finish_reason': 'tool_calls', 'logprobs': None}, id='lc_run--91a67a2c-3ae9-4a17-b7f6-e51b0529bf2d-0', tool_calls=[{'name': 'web_search', 'args': {'query': '최근 인공지능 기술 동향 2024 2025'}, 'id': 'call_R9ItNmszlX63u31MDjnH2sbs', 'type': 'tool_call'}], usage_metadata={'input_tokens': 384, 'output_tokens': 29, 'total_tokens': 413, 'input_token_details': {'audio': 0, 'cache_read': 0}, 'output_token_details': {'audio': 0, 'reasoning': 0}}), ToolMessage(content='', name='web_search', id='5955875e-9a99-45f7-b8bf-91dad36390bb', tool_call_id='call_R9ItNmszlX63u31MDjnH2sbs'), AIMessage(content='', additional_kwargs={'parsed': None, 'refusal': None}, response_metadata={'token_usage': {'completion_tokens': 545, 'prompt_tokens': 424, 'total_tokens': 969, 'completion_tokens_details': {'accepted_prediction_tokens': 0, 'audio_tokens': 0, 'reasoning_tokens': 512, 'rejected_prediction_tokens': 0}, 'prompt_tokens_details': {'audio_tokens': 0, 'cached_tokens': 0}}, 'model_provider': 'openai', 'model_name': 'gpt-5-nano-2025-08-07', 'system_fingerprint': None, 'id': 'chatcmpl-CVc16BQ7M1ekGHHjDMJU0Hyx2k8AU', 'service_tier': 'default', 'finish_reason': 'tool_calls', 'logprobs': None}, id='lc_run--d12619d4-e270-4cb4-bc64-28e1ca911c66-0', tool_calls=[{'name': 'web_search', 'args': {'query': '최근 AI 기술 동향 2024 2025'}, 'id': 'call_FFuKeNTUUwoBxt26QQl58Wwl', 'type': 'tool_call'}], usage_metadata={'input_tokens': 424, 'output_tokens': 545, 'total_tokens': 969, 'input_token_details': {'audio': 0, 'cache_read': 0}, 'output_token_details': {'audio': 0, 'reasoning': 512}}), ToolMessage(content='', name='web_search', id='a0a25180-d634-4f6f-95d9-47cffad42105', tool_call_id='call_FFuKeNTUUwoBxt26QQl58Wwl'), AIMessage(content='', additional_kwargs={'parsed': None, 'refusal': None}, response_metadata={'token_usage': {'completion_tokens': 700, 'prompt_tokens': 462, 'total_tokens': 1162, 'completion_tokens_details': {'accepted_prediction_tokens': 0, 'audio_tokens': 0, 'reasoning_tokens': 512, 'rejected_prediction_tokens': 0}, 'prompt_tokens_details': {'audio_tokens': 0, 'cached_tokens': 0}}, 'model_provider': 'openai', 'model_name': 'gpt-5-nano-2025-08-07', 'system_fingerprint': None, 'id': 'chatcmpl-CVc1BGCvcsrmOjWYGnRmekptRcNaO', 'service_tier': 'default', 'finish_reason': 'tool_calls', 'logprobs': None}, id='lc_run--7e0db49d-dc81-49d3-ae5f-f97e60bc39df-0', tool_calls=[{'name': 'web_search', 'args': {'query': '최근 AI 기술 동향 2024 2025'}, 'id': 'call_W58DQo0cP7lCs8ZinWIweVnX', 'type': 'tool_call'}, {'name': 'web_search', 'args': {'query': 'AI 2025 trends'}, 'id': 'call_eQunuEfjKfW38nO2gNwCBZLh', 'type': 'tool_call'}, {'name': 'web_search', 'args': {'query': '생성형 AI 최신 동향 2024 2025'}, 'id': 'call_MFyXWPWmwue9dmy1dmHUor0Z', 'type': 'tool_call'}, {'name': 'web_search', 'args': {'query': '인공지능 기술 개발 동향 2025'}, 'id': 'call_T2HTxNLdmGOmtbtv5DucPTOU', 'type': 'tool_call'}, {'name': 'web_search', 'args': {'query': 'AI 기술 전망 2025'}, 'id': 'call_HetcqwQgMV8BgheCgZnCPaCl', 'type': 'tool_call'}, {'name': 'web_search', 'args': {'query': '에지 컴퓨팅과 AI 트렌드 2025'}, 'id': 'call_ILONlvjNuHya4t3RGbhezxkK', 'type': 'tool_call'}, {'name': 'web_search', 'args': {'query': '멀티 모달 AI 연구 동향 2024 2025'}, 'id': 'call_bIy5JdIsMvRph6O7qpOxVUNK', 'type': 'tool_call'}], usage_metadata={'input_tokens': 462, 'output_tokens': 700, 'total_tokens': 1162, 'input_token_details': {'audio': 0, 'cache_read': 0}, 'output_token_details': {'audio': 0, 'reasoning': 512}}), ToolMessage(content='', name='web_search', id='1cd7b052-08cc-4f4c-802a-4300201a3727', tool_call_id='call_W58DQo0cP7lCs8ZinWIweVnX'), ToolMessage(content='', name='web_search', id='298688b7-b148-4ec8-8228-3c61978af4a1', tool_call_id='call_eQunuEfjKfW38nO2gNwCBZLh'), ToolMessage(content='', name='web_search', id='b5629f8a-a565-491e-972a-db1c3373b57d', tool_call_id='call_MFyXWPWmwue9dmy1dmHUor0Z'), ToolMessage(content='', name='web_search', id='dff1d693-7a11-46f9-b42d-63d2ce43134e', tool_call_id='call_T2HTxNLdmGOmtbtv5DucPTOU'), ToolMessage(content='', name='web_search', id='1e8719e3-5005-45f2-9e61-8e6d053736b3', tool_call_id='call_HetcqwQgMV8BgheCgZnCPaCl'), ToolMessage(content='', name='web_search', id='c8981257-b460-4b71-9f8a-78afd5582b46', tool_call_id='call_ILONlvjNuHya4t3RGbhezxkK'), ToolMessage(content='', name='web_search', id='2de9d478-f2a8-44ab-b2a8-32ee4fe83244', tool_call_id='call_bIy5JdIsMvRph6O7qpOxVUNK'), AIMessage(content='{}', additional_kwargs={'parsed': None, 'refusal': None}, response_metadata={'token_usage': {'completion_tokens': 1359, 'prompt_tokens': 666, 'total_tokens': 2025, 'completion_tokens_details': {'accepted_prediction_tokens': 0, 'audio_tokens': 0, 'reasoning_tokens': 1344, 'rejected_prediction_tokens': 0}, 'prompt_tokens_details': {'audio_tokens': 0, 'cached_tokens': 0}}, 'model_provider': 'openai', 'model_name': 'gpt-5-nano-2025-08-07', 'system_fingerprint': None, 'id': 'chatcmpl-CVc1KUmMTWahoEzHvE8pkl8TJJWtZ', 'service_tier': 'default', 'finish_reason': 'stop', 'logprobs': None}, id='lc_run--a3547d61-15e9-462b-b42e-32aa5436e913-0', usage_metadata={'input_tokens': 666, 'output_tokens': 1359, 'total_tokens': 2025, 'input_token_details': {'audio': 0, 'cache_read': 0}, 'output_token_details': {'audio': 0, 'reasoning': 1344}})], 'structured_response': ResponseFormat()}\n"
     ]
    }
   ],
   "source": [
    "response = agent.invoke(\n",
    "    {\"messages\": [{\"role\": \"user\", \"content\": \"최근 AI 기술 동향에 대해 알려줘.\"}]\n",
    "    },\n",
    "    config=config,\n",
    "    context=Context(user_id=\"2\")\n",
    ")\n",
    "\n",
    "print(response)"
   ]
  },
  {
   "cell_type": "code",
   "execution_count": null,
   "id": "b42dfadd",
   "metadata": {},
   "outputs": [],
   "source": [
    "\n",
    "llm_forced_using_tool = llm.bind_tools(tools, tool_choice='any')"
   ]
  }
 ],
 "metadata": {
  "kernelspec": {
   "display_name": "ai",
   "language": "python",
   "name": "python3"
  },
  "language_info": {
   "codemirror_mode": {
    "name": "ipython",
    "version": 3
   },
   "file_extension": ".py",
   "mimetype": "text/x-python",
   "name": "python",
   "nbconvert_exporter": "python",
   "pygments_lexer": "ipython3",
   "version": "3.11.14"
  }
 },
 "nbformat": 4,
 "nbformat_minor": 5
}
